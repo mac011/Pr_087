{
 "cells": [
  {
   "cell_type": "markdown",
   "metadata": {},
   "source": [
    "# COGS 108 - Assignment 4: Project Proposal"
   ]
  },
  {
   "cell_type": "markdown",
   "metadata": {},
   "source": [
    "## Important\n",
    "\n",
    "- Make sure all group member (3-5 people) are listed in the group members section.\n",
    "- ONE, and only one, member of your group should upload this notebook to TritonED. \n",
    "- Each member of the group will receive the same grade on this assignment. \n",
    "- Keep the file name the same: submit the file 'A4_ProjectProposal.ipynb'"
   ]
  },
  {
   "cell_type": "markdown",
   "metadata": {},
   "source": [
    "## Overview"
   ]
  },
  {
   "cell_type": "markdown",
   "metadata": {},
   "source": [
    "Read the project description, and detailed instructions for this assignment, in the 'A4_ProjectOutlineAndProposal' pdf."
   ]
  },
  {
   "cell_type": "markdown",
   "metadata": {},
   "source": [
    "## Group Members: Fill in the Student ID's of each group member here\n",
    "- A12083802\n",
    "- A11905002\n",
    "- A12028279\n",
    "- A12933894\n",
    "- A12121936"
   ]
  },
  {
   "cell_type": "markdown",
   "metadata": {},
   "source": [
    "### Research Question\n",
    "\n",
    "What is your research question? (1-2 sentences)"
   ]
  },
  {
   "cell_type": "markdown",
   "metadata": {},
   "source": [
    "The focus of our research is to discover and analyze the extent of socioeconomic impact of potholes on San Diego. We are looking for connections between the datasets, both obvious and more concealed, and then following up with possible data-driven solutions."
   ]
  },
  {
   "cell_type": "markdown",
   "metadata": {},
   "source": [
    "### Hypothesis\n",
    "\n",
    "What is your prediction (2-3 sentences)"
   ]
  },
  {
   "cell_type": "markdown",
   "metadata": {},
   "source": [
    "We predict that potholes have multiple negative effects on society for several reasons. These include the hindering of the bus transit system, reducing revenue earned from nearby affected parking meters, and a correlation with neglected areas of lower socioeconomic status in San Diego."
   ]
  },
  {
   "cell_type": "markdown",
   "metadata": {},
   "source": [
    "### Dataset(s)\n",
    "\n",
    "What data will you use to answer your question? Describe the dataset in terms of number of observations, what kind of features it contains, etc. You must use at least one dataset containing at least approximately 1000 observations (if your data are smaller but you feel they are sufficient, email Prof. Voytek). You are welcome (and in fact recommended) to find multiple datasets! If you do so, describe each one, and briefly explain how you will combine them together. "
   ]
  },
  {
   "cell_type": "markdown",
   "metadata": {},
   "source": [
    "- Dataset Name: Transit Stops Locations\n",
    "- Link to the dataset: https://data.sandiego.gov/datasets/transit-stops/\n",
    "- Number of observations: 6639 lines\n",
    "- Description: This data contains the longitude and latitude coordinates of bus stops. It also indicates their stop names, which are the intersections of the street names the buses stop at. Transit stop locations would play well with the variety of other location-based data we have, such as rent prices, parking meter locations, and pothole locations. We plan on combining all the location data into an easy-to-visualize map.\n",
    "\n",
    "\n",
    "- Dataset Name: Zillow Rent prices\n",
    "- Link to the dataset: https://www.kaggle.com/zillow/rent-index\n",
    "- Number of observations: 13131 lines\n",
    "- Description: This data describes the median rent prices of different metros around America through several years. This will be useful in our endeavor to compare the number of potholes in an area compared to the socio-economic status of a city. \n",
    "\n",
    "\n",
    "- Dataset Name: Parking Meter Locations\n",
    "- Link to the dataset: https://data.sandiego.gov/datasets/parking-meters-locations/\n",
    "- Number of observations: 4931 lines \n",
    "- Description: This data describes the locations of the various parking meters throughout San Diego. The locations are outlined in longitudinal and latitudinal coordinates as well, which will map nicely onto the map of local San Diego.\n",
    "\n",
    "\n",
    "- Dataset Name: Get it Done Requests\n",
    "- Link to the dataset: https://data.sandiego.gov/datasets/get-it-done-311/\n",
    "- Number of observations: 97747 lines \n",
    "- Description: This data describes specific locations with latitude and longitudinal coordinates that were reported to have some sort of street obstruction and indicates whether or not it has been dealt with. The issues are numerous but some of the recurring few include potholes, abandoned vehicles, graffiti, and litter. The data we will be focusing on will be the potholes.  \n",
    "\n",
    "\n",
    "- Dataset Name: Parking Meter Transactions\n",
    "- Link to the dataset: https://data.sandiego.gov/datasets/parking-meters-transactions/\n",
    "- Number of observations: 1048576 lines\n",
    "- Description: This data describes the start and end time of a meter, the pay method in which the person used, the identification of the meter, and the amount paid into the meter. With the details of how often transactions occur, we will compare it with the Parking Meter Locations data to identify which ones on the map are being used the most and then compare this information to the quantity and location data of the potholes.\n",
    "\n",
    "\n",
    "<b>How they all relate</b>\n",
    "\n",
    "We are planning to use the Get it Done dataset to determine where the potholes are in San Diego. With that, we will compare their locations with the rent prices in different areas of San Diego, which indicate socioeconomic status, to see if poorer areas have more potholes. In addition we will compare them to the transit stop and parking meter locations to determine whether they are related. By overlaying geographical data onto each other, we can easily spot any obvious patterns and decide from there what sort of methods (clustering, PCA) we want to apply.\n"
   ]
  },
  {
   "cell_type": "markdown",
   "metadata": {},
   "source": [
    "### Background & Prior Work\n",
    "\n",
    "Why is this question of interest, what background information led you to your hypothesis, and why is this important?\n",
    "\n",
    "Find some relevant prior work, and reference them. Even if you think you have a totally novel question, find the most similar prior work you can, and discuss how it relates to your project. \n",
    "\n",
    "References can be research publications, but they need not be: blogs, github repositories, company websites, etc., are viable references if they are relevant to your project.\n",
    "\n",
    "(2-3 paragraphs, including at least 2 references)"
   ]
  },
  {
   "cell_type": "markdown",
   "metadata": {},
   "source": [
    "Potholes have been a major issue within the city of San Diego for years; recently the city has asked its residents to begin reporting potholes in order to have the problem dealt with in a swifter manner, revealing how large of an issue it truly is. Despite this effort to raise awareness, potholes are still a prevalent problem to the residents of San Diego, and the city is considered to have one of the worst road conditions in the United States. According to Pothole.info, poor road conditions cause at least a third of fatal traffic accidents a year, explaining why San Diego should be allocating more resources into dealing with this problem.\n",
    "\t\n",
    "Fixmystreet.com claims that causes of potholes range from rainy weather conditions to heavy vehicle presence. If there is a correlation with bus transit routes and the percentage of potholes, it would be in the best interest of the city to focus on these potholes because of the economic benefits it can bring; potholes can damages busses and also endanger the passengers in them.  Aside from this, there may also be some correlations with the proportion of potholes and the surrounding socio-economic area. In order to make roads safer, the city of San Diego should prioritize on fixing potholes in neighborhoods that are less affluent. Lastly, our group was curious to see if there was a relationship with how much a parking meter makes with respect to the amount of potholes located around the meters. If a meter is less profitable when there are more potholes, it would be in the best interest for the city to focus on repairing these potholes in order to bring in funds. These are the several problems our groups believes are potentially caused by the presence of potholes and that we hope to address through our project. \n",
    "\n",
    "References (include a link):\n",
    "1. https://www.pothole.info/the-facts/ \n",
    "2. http://www.nbcsandiego.com/news/local/City-of-San-Diego-Asking-Residents-to-Report-Potholes-410179725.html - Devine (NBC)\n",
    "3. https://seriousaccidents.com/legal-advice/top-causes-of-car-accidents/potholes/ \n",
    "4. https://www.fixmystreet.com/report/797748 "
   ]
  },
  {
   "cell_type": "markdown",
   "metadata": {},
   "source": [
    "### Proposed Methods\n",
    "\n",
    "What methods will you use to analyze your data?\n",
    "\n",
    "- How 'clean' is the data? To the extent that it requires cleaning, how will you do so?\n",
    "- How will you analyze the data? Be as specific as you can. Briefly mention any pre-processing steps that are required for your methods (for example, checking data distributions and performing any transformations that may be required). Include a brief outline of how you will apply your chosen method(s). \n",
    "- What do you plan to report? Briefly mention any key visualizations you plan to create, and/or the kind of result you will be able to report that addresses your question (this could be, for example, the outcome of some statistical test(s), prediction error on a model, a model fit parameter, etc.).\n",
    "- Include a list of packages you expect to use for you project. If you plan to use packages we have not used in class, add a very brief description about them (a few words is sufficient). "
   ]
  },
  {
   "cell_type": "markdown",
   "metadata": {},
   "source": [
    "*Data Cleaning (2-3 sentences)*\n",
    "\n",
    "The data we have is fairly clean, but we need to filter out several rows and columns to retain only the relevant data. This means keeping the only the latitude and longitude of most sets, the parking meter ID’s of both parking meter sets, the pothole requests of the Get it Done data, and the San Diego locations of the rent dataset. \n",
    "\n",
    "*Data Analysis (1-2 paragraphs)*\n",
    "\n",
    "Overall analysis of the relationships between the location of potholes, traffic meters, and bus transit stops can be observed to discover possible correlations between the different datasets. Analysis of the pothole frequency and locations from the “Get it Done Requests” dataset can be plotted using longitude and latitude onto the SANDAG GIS program to visually map the potholes onto a detailed San Diego map. Darker areas on the map will indicate denser clusters of potholes in a particular area. Similarly, traffic meter locations can be clustered onto the map to allow comparisons to be made to the pothole locations. “Traffic Meter Transactions” will be placed into a linear regression model to help determine possible patterns between highest grossing parking meters and more socio-economically advantageous areas. Depending on the variance of potholes to each meter, we can pair it to the revenue raised for each meter to analyze the possible effects of potholes depressing economic advancement. We also plan on creating a linear regression model with the socio-economic status of a neighborhood and the number of potholes each neighborhood has. This would allow us to see if there is some correlation between the frequency of potholes and the average income of a certain neighborhood. The bus transit stops will also utilize the cluster and variance method to determine if there are any potholes near the transit stops. We would then be able to determine whether there is a larger occurrence of potholes near these stops. We want to propose an emphasis to prioritize repairing of potholes surrounding transit stations, because potholes will not only inflict costly damages to public transit vehicles but endanger the lives of civilians. \n",
    "Primarily, most of the data will be analyzed spatially-wise in correlation to each dimension. We will look at the overall distribution of data, and how they compare with one another. In the case that any outliers or abnormalities are detected in the datasets, they will be closely examined and possibly dropped if necessary.\n",
    "\n",
    "*What to report (2-3 sentences)*\n",
    "\n",
    "The results that we will able to report are the correlations of the number of potholes in a city with its rent price (and by extension, its socio-economic status), the number of potholes near traffic meter locations and its affects on how often parking meters are used, and the number of potholes near bus transit stops. Visually, the number of potholes and their relationship with rent prices of a city and the amount of transactions at a parking meter will be shown through linear regression graphs. As for the relationship between the number of potholes with parking meter locations and bus transit stops, it will be shown through cluster/variance relationships. As a result of these deliverables, it will reveal the strength and validity of their correlations. \n",
    "\n",
    "\n",
    "Packages we plan to use:\n",
    "- NumPy/SciPy: For powerful manipulation of numerical data.\n",
    "- matplotlib: For simple visual representation of data.\n",
    "- scikit-learn: To create more complex models and extrapolate with our data, specifically its capabilities for dimensionality reduction, classification, regression, and clustering.\n",
    "- Although this is not necessarily a Python package, but many of the resources from the SANDAG Regional GIS Data Warehouse has Geographic Information System (GIS) data packaged along with it. Using interactive mapping software such as ArcGIS, we can overlay extremely geographically detailed information onto a local map of San Diego."
   ]
  },
  {
   "cell_type": "markdown",
   "metadata": {},
   "source": [
    "### Discussion\n",
    "\n",
    "What are the pitfalls and potential confounds of your data and/or methods? For example, how might biases in your data sources or analyses influence your interpretations? What will you do if you methods don't work and/or your hypotheses are wrong?\n",
    "\n",
    "(2-3 paragraphs)"
   ]
  },
  {
   "cell_type": "markdown",
   "metadata": {},
   "source": [
    "Some pitfalls that may occur in our project can be due to the limitations in our data sets. Potential confounds in the “Get it Done Requests” data file, for example, includes the fact that it does not indicate the size of the pothole. It is possible that for society to be actually affected by potholes, they need to be bigger and more obstructive, but the data set does not characterize them any further than just calling them “potholes” so this missing information can influence our interpretations.\n",
    "\n",
    "Additionally our analysis and interpretations may be confounded by the “Zillow Rent prices” data. This data set is limited with the amount of locations available. It merely indicates the median rent prices of certain specific cities, so it is a general data set that does not hone in on many specific locations and their rent prices. Rent prices are also not the most precise way to indicate the socio-economic status of an area so that can affect our accuracy when determining a city’s socio-economic status relationship with potholes.\n",
    "\n",
    "Another potential confound deals with the methods. The GSI we want to incorporate comes in shape files that may be difficult to work with. The SANDAG website plots preexisting data onto a map, however, we were unsuccessful in extracting the raw data files from the website. Ideally, we would analyze the raw data files separately and compare that data to our other data sets. We will continue to attempt the extraction of GIS data, however, as of now, our attempts are futile.  "
   ]
  },
  {
   "cell_type": "code",
   "execution_count": null,
   "metadata": {
    "collapsed": true
   },
   "outputs": [],
   "source": []
  },
  {
   "cell_type": "code",
   "execution_count": null,
   "metadata": {
    "collapsed": true
   },
   "outputs": [],
   "source": []
  }
 ],
 "metadata": {
  "anaconda-cloud": {},
  "kernelspec": {
   "display_name": "Python [default]",
   "language": "python",
   "name": "python3"
  },
  "language_info": {
   "codemirror_mode": {
    "name": "ipython",
    "version": 3
   },
   "file_extension": ".py",
   "mimetype": "text/x-python",
   "name": "python",
   "nbconvert_exporter": "python",
   "pygments_lexer": "ipython3",
   "version": "3.5.2"
  }
 },
 "nbformat": 4,
 "nbformat_minor": 2
}
