{
 "cells": [
  {
   "cell_type": "code",
   "execution_count": null,
   "metadata": {
    "collapsed": true
   },
   "outputs": [],
   "source": [
    "# Imports\n",
    "#  Note: these are all the imports you need! Do not import any other functions / packages\n",
    "%matplotlib inline\n",
    "\n",
    "import numpy as np\n",
    "import pandas as pd\n",
    "import geopy as gp\n",
    "from geopy.distance import great_circle\n"
   ]
  },
  {
   "cell_type": "code",
   "execution_count": null,
   "metadata": {
    "collapsed": false
   },
   "outputs": [],
   "source": [
    "zillowpd = pd.read_csv('../raw_data/Neighborhood_MedianValuePerSqft_AllHomes.csv') \n"
   ]
  },
  {
   "cell_type": "code",
   "execution_count": null,
   "metadata": {
    "collapsed": false
   },
   "outputs": [],
   "source": [
    "zillowpdsd = zillowpd[zillowpd['CountyName'] == 'San Diego'] # remove all counties not san diego\n",
    "# remove uneccessary columns\n",
    "zillowpdsd = zillowpdsd.drop('RegionID', 1)\n",
    "zillowpdsd = zillowpdsd.drop('State', 1)\n",
    "zillowpdsd = zillowpdsd.drop('SizeRank', 1)\n",
    "# remove all but latest rent info\n",
    "zillowpdsd2 = zillowpdsd[['RegionName', 'City','Metro','CountyName','2017-03']]\n",
    "zillowpdsd2"
   ]
  },
  {
   "cell_type": "code",
   "execution_count": null,
   "metadata": {
    "collapsed": true
   },
   "outputs": [],
   "source": [
    "zillowpdsd.to_csv('../clean_data/clean_full_pricepersqft.csv')\n",
    "zillowpdsd2.to_csv('../clean_data/clean_latest_pricepersqft.csv')"
   ]
  },
  {
   "cell_type": "code",
   "execution_count": 42,
   "metadata": {
    "collapsed": false
   },
   "outputs": [],
   "source": [
    "randomPoints1 = pd.read_csv('../clean_data/randomPoints.csv') \n",
    "open_pot = pd.read_csv('../clean_data/cleaned_get_it_done_open_potholes.csv')\n"
   ]
  },
  {
   "cell_type": "code",
   "execution_count": 43,
   "metadata": {
    "collapsed": false
   },
   "outputs": [],
   "source": [
    "randResults = np.zeros((len(randomPoints1),len(open_pot)))"
   ]
  },
  {
   "cell_type": "code",
   "execution_count": 44,
   "metadata": {
    "collapsed": false
   },
   "outputs": [],
   "source": [
    "for i in randomPoints1.index:\n",
    "    randomPoint = randomPoints1.iloc[i]\n",
    "    for j in open_pot.index:\n",
    "        open_pott = open_pot.iloc[j]\n",
    "        randResults[i][j] = great_circle((randomPoint['Y'], randomPoint['X']), (open_pott['lat'], open_pott['long'])).meters\n",
    "np.save('../clean_data/randDistances.npy',busResults)\n"
   ]
  },
  {
   "cell_type": "raw",
   "metadata": {},
   "source": []
  },
  {
   "cell_type": "code",
   "execution_count": 45,
   "metadata": {
    "collapsed": false
   },
   "outputs": [
    {
     "data": {
      "text/plain": [
       "array([[ 21294.18137354,  32455.46854985,  19346.96391187, ...,\n",
       "         11223.40486153,   4243.650653  ,             nan],\n",
       "       [ 26758.55166862,  17773.62264483,  30353.9422605 , ...,\n",
       "         38644.98415844,  44216.64858176,             nan],\n",
       "       [ 19296.32118276,  11328.90529847,  23086.43584364, ...,\n",
       "         31269.88935603,  36747.12363651,             nan],\n",
       "       ..., \n",
       "       [ 14985.92497456,  25946.68759569,  14482.13546138, ...,\n",
       "          5142.64485801,   4415.40279766,             nan],\n",
       "       [ 15316.04657951,  17580.02277632,  22240.26965402, ...,\n",
       "         12270.31128578,  21779.5897994 ,             nan],\n",
       "       [ 12680.86413256,  13145.31330652,  20398.13083886, ...,\n",
       "         13633.39893837,  23011.1173002 ,             nan]])"
      ]
     },
     "execution_count": 45,
     "metadata": {},
     "output_type": "execute_result"
    }
   ],
   "source": [
    "randResults"
   ]
  },
  {
   "cell_type": "raw",
   "metadata": {},
   "source": []
  }
 ],
 "metadata": {
  "kernelspec": {
   "display_name": "Python 3",
   "language": "python",
   "name": "python3"
  },
  "language_info": {
   "codemirror_mode": {
    "name": "ipython",
    "version": 3
   },
   "file_extension": ".py",
   "mimetype": "text/x-python",
   "name": "python",
   "nbconvert_exporter": "python",
   "pygments_lexer": "ipython3",
   "version": "3.6.0"
  }
 },
 "nbformat": 4,
 "nbformat_minor": 2
}
