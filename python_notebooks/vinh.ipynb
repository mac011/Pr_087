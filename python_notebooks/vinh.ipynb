{
 "cells": [
  {
   "cell_type": "code",
   "execution_count": 179,
   "metadata": {
    "collapsed": true
   },
   "outputs": [],
   "source": [
    "# Imports\n",
    "#  Note: these are all the imports you need! Do not import any other functions / packages\n",
    "%matplotlib inline\n",
    "\n",
    "import numpy as np\n",
    "import pandas as pd\n",
    "import geopy as gp\n",
    "from geopy.distance import great_circle\n",
    "import scipy.spatial\n",
    "import utm #pip install utm\n",
    "\n",
    "import matplotlib.pyplot as plt\n",
    "from pylab import rcParams\n",
    "rcParams['figure.figsize'] = 1,10\n",
    "\n",
    "from datetime import datetime\n",
    "date_format = \"%Y-%m-%d %H:%M:%S\"\n",
    "\n",
    "import time\n",
    "import calendar"
   ]
  },
  {
   "cell_type": "code",
   "execution_count": null,
   "metadata": {
    "collapsed": false
   },
   "outputs": [],
   "source": [
    "zillowpd = pd.read_csv('../raw_data/Neighborhood_MedianValuePerSqft_AllHomes.csv') \n"
   ]
  },
  {
   "cell_type": "code",
   "execution_count": null,
   "metadata": {
    "collapsed": false
   },
   "outputs": [],
   "source": [
    "zillowpdsd = zillowpd[zillowpd['CountyName'] == 'San Diego'] # remove all counties not san diego\n",
    "# remove uneccessary columns\n",
    "zillowpdsd = zillowpdsd.drop('RegionID', 1)\n",
    "zillowpdsd = zillowpdsd.drop('State', 1)\n",
    "zillowpdsd = zillowpdsd.drop('SizeRank', 1)\n",
    "# remove all but latest rent info\n",
    "zillowpdsd2 = zillowpdsd[['RegionName', 'City','Metro','CountyName','2017-03']]\n",
    "zillowpdsd2"
   ]
  },
  {
   "cell_type": "code",
   "execution_count": null,
   "metadata": {
    "collapsed": true
   },
   "outputs": [],
   "source": [
    "zillowpdsd.to_csv('../clean_data/clean_full_pricepersqft.csv')\n",
    "zillowpdsd2.to_csv('../clean_data/clean_latest_pricepersqft.csv')"
   ]
  },
  {
   "cell_type": "code",
   "execution_count": 42,
   "metadata": {
    "collapsed": false
   },
   "outputs": [],
   "source": [
    "randomPoints1 = pd.read_csv('../clean_data/randomPoints.csv') \n",
    "open_pot = pd.read_csv('../clean_data/cleaned_get_it_done_open_potholes.csv')\n"
   ]
  },
  {
   "cell_type": "code",
   "execution_count": 43,
   "metadata": {
    "collapsed": false
   },
   "outputs": [],
   "source": [
    "randResults = np.zeros((len(randomPoints1),len(open_pot)))"
   ]
  },
  {
   "cell_type": "code",
   "execution_count": 44,
   "metadata": {
    "collapsed": false
   },
   "outputs": [],
   "source": [
    "for i in randomPoints1.index:\n",
    "    randomPoint = randomPoints1.iloc[i]\n",
    "    for j in open_pot.index:\n",
    "        open_pott = open_pot.iloc[j]\n",
    "        randResults[i][j] = great_circle((randomPoint['Y'], randomPoint['X']), (open_pott['lat'], open_pott['long'])).meters\n",
    "np.save('../clean_data/randDistances.npy',busResults)\n"
   ]
  },
  {
   "cell_type": "raw",
   "metadata": {},
   "source": []
  },
  {
   "cell_type": "code",
   "execution_count": 45,
   "metadata": {
    "collapsed": false,
    "scrolled": true
   },
   "outputs": [
    {
     "data": {
      "text/plain": [
       "array([[ 21294.18137354,  32455.46854985,  19346.96391187, ...,\n",
       "         11223.40486153,   4243.650653  ,             nan],\n",
       "       [ 26758.55166862,  17773.62264483,  30353.9422605 , ...,\n",
       "         38644.98415844,  44216.64858176,             nan],\n",
       "       [ 19296.32118276,  11328.90529847,  23086.43584364, ...,\n",
       "         31269.88935603,  36747.12363651,             nan],\n",
       "       ..., \n",
       "       [ 14985.92497456,  25946.68759569,  14482.13546138, ...,\n",
       "          5142.64485801,   4415.40279766,             nan],\n",
       "       [ 15316.04657951,  17580.02277632,  22240.26965402, ...,\n",
       "         12270.31128578,  21779.5897994 ,             nan],\n",
       "       [ 12680.86413256,  13145.31330652,  20398.13083886, ...,\n",
       "         13633.39893837,  23011.1173002 ,             nan]])"
      ]
     },
     "execution_count": 45,
     "metadata": {},
     "output_type": "execute_result"
    }
   ],
   "source": [
    "randResults"
   ]
  },
  {
   "cell_type": "raw",
   "metadata": {},
   "source": [
    "\n"
   ]
  },
  {
   "cell_type": "code",
   "execution_count": 11,
   "metadata": {
    "collapsed": false
   },
   "outputs": [
    {
     "data": {
      "text/plain": [
       "(11905, 2)"
      ]
     },
     "execution_count": 11,
     "metadata": {},
     "output_type": "execute_result"
    }
   ],
   "source": [
    "closedPotholes = pd.read_csv('../clean_data/complete_closed.csv') \n",
    "closedPotholes = closedPotholes[['lat','long']]\n",
    "closedPotholes.shape"
   ]
  },
  {
   "cell_type": "code",
   "execution_count": 12,
   "metadata": {
    "collapsed": false
   },
   "outputs": [
    {
     "data": {
      "text/plain": [
       "(2573, 2)"
      ]
     },
     "execution_count": 12,
     "metadata": {},
     "output_type": "execute_result"
    }
   ],
   "source": [
    "openPotholes = pd.read_csv('../clean_data/FINAL_open_pothole_count.csv') \n",
    "openPotholes = openPotholes[['lat','long']]\n",
    "openPotholes.shape"
   ]
  },
  {
   "cell_type": "code",
   "execution_count": 15,
   "metadata": {
    "collapsed": false
   },
   "outputs": [],
   "source": [
    "allPotholes = pd.concat([closedPotholes, openPotholes])\n",
    "bus_stops = pd.read_csv('../clean_data/clean_bus_stops.csv')\n",
    "bus_stops = bus_stops[~np.isnan(bus_stops['LONGITUDE'])]\n",
    "bus_stops = bus_stops[bus_stops['LONGITUDE'] != 0]"
   ]
  },
  {
   "cell_type": "code",
   "execution_count": 17,
   "metadata": {
    "collapsed": false
   },
   "outputs": [],
   "source": [
    "open_pot_coordinates = np.asarray(allPotholes[['lat','long']])\n",
    "bus_stops_coordinates = np.asarray(bus_stops[['LATITUDE','LONGITUDE']])\n"
   ]
  },
  {
   "cell_type": "code",
   "execution_count": 44,
   "metadata": {
    "collapsed": false
   },
   "outputs": [
    {
     "name": "stdout",
     "output_type": "stream",
     "text": [
      "WTF 4793 : 30.2332189564\n",
      "WTF 4840 : 120.676208029\n",
      "WTF 4936 : 30.8632582989\n",
      "WTF 5121 : 27.4985194657\n",
      "WTF 7267 : 120.676208029\n",
      "WTF 8258 : 120.676208029\n",
      "WTF 9678 : 31.5457862561\n",
      "WTF 9696 : 31.4312596027\n",
      "WTF 9775 : 32.1084048696\n",
      "WTF 9867 : 28.2401390377\n",
      "WTF 9889 : 31.0495755468\n",
      "WTF 9919 : 37.0562810338\n",
      "WTF 9932 : 275.697472971\n",
      "WTF 10060 : 45.7198603927\n",
      "WTF 10072 : 128.898409146\n",
      "WTF 10079 : 32.3937811226\n",
      "WTF 10090 : 29.1769585769\n",
      "WTF 10191 : 28.7539948343\n",
      "WTF 10228 : 120.676208029\n",
      "WTF 14028 : 120.676208029\n",
      "WTF 14264 : 120.676208029\n",
      "WTF 14357 : 120.676208029\n"
     ]
    }
   ],
   "source": [
    "dist_bus_data = scipy.spatial.distance.cdist(open_pot_coordinates,bus_stops_coordinates)\n",
    "min_dist_indices = np.zeros(dist_bus_data.shape[0])\n",
    "min_dists = np.zeros(dist_bus_data.shape[0])\n",
    "\n",
    "for i in range(0,dist_bus_data.shape[0]):\n",
    "    _ = np.argmin(dist_bus_data[i])\n",
    "    min_dists[i] = dist_bus_data[i][_]\n",
    "    min_dist_indices[i] = _    \n",
    "    if dist_bus_data[i][_] > 20:\n",
    "        print('WTF',i,':',dist_bus_data[i][_])\n"
   ]
  },
  {
   "cell_type": "code",
   "execution_count": 45,
   "metadata": {
    "collapsed": false
   },
   "outputs": [],
   "source": [
    "min_dists = pd.Series(min_dists).dropna()"
   ]
  },
  {
   "cell_type": "code",
   "execution_count": 49,
   "metadata": {
    "collapsed": false
   },
   "outputs": [
    {
     "data": {
      "image/png": "iVBORw0KGgoAAAANSUhEUgAAAmAAAAJOCAYAAAAQzbuWAAAABHNCSVQICAgIfAhkiAAAAAlwSFlz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\n",
      "text/plain": [
       "<matplotlib.figure.Figure at 0x117fd8438>"
      ]
     },
     "metadata": {},
     "output_type": "display_data"
    },
    {
     "name": "stdout",
     "output_type": "stream",
     "text": [
      "Mean: 0.1262216002018572\n"
     ]
    }
   ],
   "source": [
    "#All Potholes to nearest Bus Stop Distances\n",
    "plt.close()\n",
    "plt.figure(figsize=(10,10))\n",
    "plt.hist(np.log(min_dists), 50, range=[-11,0])\n",
    "plt.title('All Potholes to nearest Bus Stop Distances')\n",
    "plt.show()\n",
    "plt.close()\n",
    "print('Mean:',np.mean(min_dists))"
   ]
  },
  {
   "cell_type": "code",
   "execution_count": 50,
   "metadata": {
    "collapsed": false
   },
   "outputs": [
    {
     "name": "stdout",
     "output_type": "stream",
     "text": [
      "WTF 4793 : 30.934840055\n",
      "WTF 4840 : 121.323575615\n",
      "WTF 4936 : 31.6335567375\n",
      "WTF 5121 : 28.314177683\n",
      "WTF 7267 : 121.323575615\n",
      "WTF 8258 : 121.323575615\n",
      "WTF 9678 : 32.2460765864\n",
      "WTF 9696 : 32.2220693832\n",
      "WTF 9775 : 32.8520697647\n",
      "WTF 9867 : 28.9403688386\n",
      "WTF 9889 : 31.8344145114\n",
      "WTF 9919 : 37.7767859747\n",
      "WTF 9932 : 276.367786277\n",
      "WTF 10060 : 46.445109483\n",
      "WTF 10072 : 129.68335958\n",
      "WTF 10079 : 33.1200213141\n",
      "WTF 10090 : 29.9935702121\n",
      "WTF 10103 : 20.395534892\n",
      "WTF 10191 : 29.4525145538\n",
      "WTF 10228 : 121.323575615\n",
      "WTF 14028 : 121.323575615\n",
      "WTF 14264 : 121.323575615\n",
      "WTF 14357 : 121.323575615\n"
     ]
    },
    {
     "data": {
      "image/png": "iVBORw0KGgoAAAANSUhEUgAAAmAAAAJOCAYAAAAQzbuWAAAABHNCSVQICAgIfAhkiAAAAAlwSFlz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\nMAEGADDs/wE/TYYt9QaYVwAAAABJRU5ErkJggg==\n",
      "text/plain": [
       "<matplotlib.figure.Figure at 0x117f87e10>"
      ]
     },
     "metadata": {},
     "output_type": "display_data"
    },
    {
     "name": "stdout",
     "output_type": "stream",
     "text": [
      "Mean: 0.18172019100348896\n"
     ]
    }
   ],
   "source": [
    "# meter distances\n",
    "meter_data = pd.read_csv('../raw_data/raw_parking_meter_location.csv')\n",
    "meter_data = meter_data[~np.isnan(meter_data['longitude'])]\n",
    "meter_data = meter_data[meter_data['longitude'] != 0]\n",
    "meter_data_coordinates = np.asarray(meter_data[['latitude','longitude']])\n",
    "\n",
    "dist_meter_data = scipy.spatial.distance.cdist(open_pot_coordinates,meter_data_coordinates)\n",
    "min_dist_indices = np.zeros(dist_meter_data.shape[0])\n",
    "min_dists = np.zeros(dist_meter_data.shape[0])\n",
    "for i in range(0,dist_meter_data.shape[0]):\n",
    "    _ = np.argmin(dist_meter_data[i])\n",
    "    min_dists[i] = dist_meter_data[i][_]\n",
    "    min_dist_indices[i] = _    \n",
    "    if dist_meter_data[i][_] > 20:\n",
    "        print('WTF',i,':',dist_meter_data[i][_])\n",
    "min_dists = pd.Series(min_dists).dropna()\n",
    "plt.close()\n",
    "plt.figure(figsize=(10,10))\n",
    "plt.hist(np.log(min_dists), 50, range=[-11,1])\n",
    "plt.title('All Potholes to nearest Meter Distances')\n",
    "plt.show()\n",
    "plt.close()\n",
    "print('Mean:',np.mean(min_dists))"
   ]
  },
  {
   "cell_type": "code",
<<<<<<< HEAD
   "execution_count": null,
=======
   "execution_count": 23,
>>>>>>> 7863e4a421243e93e1ea603b0c5d6bfea18e37c9
   "metadata": {
    "collapsed": true
   },
   "outputs": [],
   "source": [
    "bus_stops = pd.read_csv('../clean_data/clean_bus_stops.csv')\n",
<<<<<<< HEAD
    "potholes = pd.read_csv('../clean_data/Combined_Closed_Neighb.csv')\n",
    "\n"
   ]
=======
    "\n",
    "potholes = pd.read_csv('../clean_data/Tims_master.csv')\n",
    "\n"
   ]
  },
  {
   "cell_type": "code",
   "execution_count": 24,
   "metadata": {
    "collapsed": true
   },
   "outputs": [],
   "source": [
    "bus_stops = bus_stops[~np.isnan(bus_stops['LONGITUDE'])]\n",
    "bus_stops = bus_stops[bus_stops['LONGITUDE'] != 0]\n",
    "closed_pot_coordinates = np.asarray(potholes[['lat','long']])\n",
    "bus_stops_coordinates = np.asarray(bus_stops[['LATITUDE','LONGITUDE']])\n"
   ]
  },
  {
   "cell_type": "code",
   "execution_count": 25,
   "metadata": {
    "collapsed": false
   },
   "outputs": [],
   "source": [
    "def latlon_to_utm(coords):\n",
    "    _ = np.zeros((coords.shape[0],coords.shape[1]))\n",
    "    for i in range(0,_.shape[0]):\n",
    "        conv = utm.from_latlon(coords[i][0],coords[i][1])\n",
    "        _[i][0] = conv[0]\n",
    "        _[i][1] = conv[1]\n",
    "    return _\n",
    "\n",
    "closed_pot_coordinates = latlon_to_utm(closed_pot_coordinates)\n",
    "bus_stops_coordinates = latlon_to_utm(bus_stops_coordinates)"
   ]
  },
  {
   "cell_type": "code",
   "execution_count": 26,
   "metadata": {
    "collapsed": false
   },
   "outputs": [
    {
     "data": {
      "text/plain": [
       "[RangeIndex(start=0, stop=1226, step=1),\n",
       " Index(['Unnamed: 0', 'index', 'Unnamed: 0.1', 'Neighborhood',\n",
       "        'Unnamed: 0.1.1.1', 'closed', 'closed_date', 'coordinates',\n",
       "        'duplicate_verified', 'lat', 'long', 'mobile_web_status', 'open',\n",
       "        'override_duplicate', 'requested_datetime', 'sap_problem_type',\n",
       "        'service_name', 'status_description', 'Duration to Close (Hrs)',\n",
       "        'closed_changed_date', 'Neighborhood_Val', 'Median_Time_Closed',\n",
       "        'City Pothole Count', 'Population', 'min_dists'],\n",
       "       dtype='object')]"
      ]
     },
     "execution_count": 26,
     "metadata": {},
     "output_type": "execute_result"
    }
   ],
   "source": [
    "dist_bus_data = scipy.spatial.distance.cdist(closed_pot_coordinates,bus_stops_coordinates)\n",
    "min_dist_indices = np.zeros(dist_bus_data.shape[0])\n",
    "min_dists = np.zeros(dist_bus_data.shape[0])\n",
    "\n",
    "for i in range(0,dist_bus_data.shape[0]):\n",
    "    _ = np.argmin(dist_bus_data[i])\n",
    "    min_dists[i] = dist_bus_data[i][_]\n",
    "    min_dist_indices[i] = _    \n",
    "#     if dist_bus_data[i][_] > 20:\n",
    "#         print('WTF',i,':',dist_bus_data[i][_])\n",
    "\n",
    "min_distances = pd.DataFrame({'min_dists': min_dists})\n",
    "potholes =  potholes.join(min_distances)\n",
    "potholes.axes"
   ]
  },
  {
   "cell_type": "code",
   "execution_count": 31,
   "metadata": {
    "collapsed": false
   },
   "outputs": [
    {
     "data": {
      "text/plain": [
       "<matplotlib.collections.PathCollection at 0x114e257f0>"
      ]
     },
     "execution_count": 31,
     "metadata": {},
     "output_type": "execute_result"
    },
    {
     "data": {
      "image/png": "iVBORw0KGgoAAAANSUhEUgAAAmAAAAJCCAYAAABnD3vtAAAABHNCSVQICAgIfAhkiAAAAAlwSFlz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\nTkSuQmCC\n",
      "text/plain": [
       "<matplotlib.figure.Figure at 0x11466ff28>"
      ]
     },
     "metadata": {},
     "output_type": "display_data"
    }
   ],
   "source": [
    "plt.scatter(potholes['Duration to Close (Hrs)'], potholes['min_dists'])"
   ]
  },
  {
   "cell_type": "code",
   "execution_count": 40,
   "metadata": {
    "collapsed": false
   },
   "outputs": [
    {
     "data": {
      "text/plain": [
       "36"
      ]
     },
     "execution_count": 40,
     "metadata": {},
     "output_type": "execute_result"
    }
   ],
   "source": [
    "potholes['Duration to Close (Hrs)'].max()\n",
    "potholes_clump = potholes[(potholes['Duration to Close (Hrs)'] <= 4000) & (potholes['min_dists'] <= 1200)]\n",
    "potholes.shape[0] - potholes_clump.shape[0]\n"
   ]
  },
  {
   "cell_type": "code",
   "execution_count": 32,
   "metadata": {
    "collapsed": false
   },
   "outputs": [
    {
     "data": {
      "text/html": [
       "<div>\n",
       "<table border=\"1\" class=\"dataframe\">\n",
       "  <thead>\n",
       "    <tr style=\"text-align: right;\">\n",
       "      <th></th>\n",
       "      <th>Duration to Close (Hrs)</th>\n",
       "      <th>min_dists</th>\n",
       "    </tr>\n",
       "  </thead>\n",
       "  <tbody>\n",
       "    <tr>\n",
       "      <th>Duration to Close (Hrs)</th>\n",
       "      <td>1.00000</td>\n",
       "      <td>0.00443</td>\n",
       "    </tr>\n",
       "    <tr>\n",
       "      <th>min_dists</th>\n",
       "      <td>0.00443</td>\n",
       "      <td>1.00000</td>\n",
       "    </tr>\n",
       "  </tbody>\n",
       "</table>\n",
       "</div>"
      ],
      "text/plain": [
       "                         Duration to Close (Hrs)  min_dists\n",
       "Duration to Close (Hrs)                  1.00000    0.00443\n",
       "min_dists                                0.00443    1.00000"
      ]
     },
     "execution_count": 32,
     "metadata": {},
     "output_type": "execute_result"
    }
   ],
   "source": [
    "potholes[['Duration to Close (Hrs)','min_dists' ]].corr()"
   ]
  },
  {
   "cell_type": "code",
   "execution_count": 107,
   "metadata": {
    "collapsed": false
   },
   "outputs": [
    {
     "name": "stdout",
     "output_type": "stream",
     "text": [
      "[RangeIndex(start=0, stop=1226, step=1), Index(['Unnamed: 0', 'index', 'Unnamed: 0.1', 'Neighborhood',\n",
      "       'Unnamed: 0.1.1.1', 'closed', 'closed_date', 'coordinates',\n",
      "       'duplicate_verified', 'lat', 'long', 'mobile_web_status', 'open',\n",
      "       'override_duplicate', 'requested_datetime', 'sap_problem_type',\n",
      "       'service_name', 'status_description', 'Duration to Close (Hrs)',\n",
      "       'closed_changed_date', 'Neighborhood_Val', 'Median_Time_Closed',\n",
      "       'City Pothole Count', 'Population'],\n",
      "      dtype='object')]\n"
     ]
    },
    {
     "data": {
      "text/plain": [
       "(1226, 24)"
      ]
     },
     "execution_count": 107,
     "metadata": {},
     "output_type": "execute_result"
    }
   ],
   "source": [
    "closed_potholes = pd.read_csv('../clean_data/Tims_master.csv')\n",
    "print(closed_potholes.axes)\n",
    "closed_potholes.shape\n"
   ]
  },
  {
   "cell_type": "code",
   "execution_count": 108,
   "metadata": {
    "collapsed": false
   },
   "outputs": [
    {
     "data": {
      "text/plain": [
       "(730, 24)"
      ]
     },
     "execution_count": 108,
     "metadata": {},
     "output_type": "execute_result"
    }
   ],
   "source": [
    "closed_potholes\n",
    "closed_potholes_no_dupes = closed_potholes[closed_potholes['duplicate_verified'] == 0.0]\n",
    "closed_potholes_no_dupes.shape"
   ]
  },
  {
   "cell_type": "code",
   "execution_count": 65,
   "metadata": {
    "collapsed": false
   },
   "outputs": [
    {
     "name": "stdout",
     "output_type": "stream",
     "text": [
      "393.65\n"
     ]
    },
    {
     "data": {
      "image/png": "iVBORw0KGgoAAAANSUhEUgAAAloAAAJCCAYAAAAY3mkcAAAABHNCSVQICAgIfAhkiAAAAAlwSFlz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\nZ/UxP7NhAAAAAElFTkSuQmCC\n",
      "text/plain": [
       "<matplotlib.figure.Figure at 0x114a18cf8>"
      ]
     },
     "metadata": {},
     "output_type": "display_data"
    }
   ],
   "source": [
    "fig1 = plt.figure()\n",
    "plt.hist(closed_potholes_no_dupes['Duration to Close (Hrs)'],25)\n",
    "print(np.median(closed_potholes_no_dupes['Duration to Close (Hrs)']))"
   ]
  },
  {
   "cell_type": "code",
   "execution_count": 148,
   "metadata": {
    "collapsed": false
   },
   "outputs": [
    {
     "data": {
      "text/plain": [
       "(8980, 21)"
      ]
     },
     "execution_count": 148,
     "metadata": {},
     "output_type": "execute_result"
    }
   ],
   "source": [
    "closed_potholes = pd.read_csv('../clean_data/no_duplicates.csv')\n",
    "closed_potholes.shape\n"
   ]
  },
  {
   "cell_type": "code",
   "execution_count": 150,
   "metadata": {
    "collapsed": false
   },
   "outputs": [],
   "source": [
    "open_time = []\n",
    "close_time = []\n",
    "\n",
    "\n",
    "open_close_times = []\n",
    "\n",
    "for i in closed_potholes_no_dupes.index:\n",
    "    a = calendar.timegm(time.strptime(str(closed_potholes_no_dupes['closed_date'][i]), '%Y-%m-%d %H:%M:%S'))\n",
    "    b = calendar.timegm(time.strptime(str(closed_potholes_no_dupes['closed_date'][i]), '%Y-%m-%d %H:%M:%S'))\n",
    "    open_close = {}\n",
    "    open_close['open'] = a\n",
    "    open_close['close'] = b\n",
    "    open_close['index'] = i\n",
    "    open_close_times.append(open_close)\n"
   ]
  },
  {
   "cell_type": "code",
   "execution_count": 151,
   "metadata": {
    "collapsed": false
   },
   "outputs": [],
   "source": [
    "open_close_times = sorted(open_close_times, key=lambda d: d['open'])"
   ]
  },
  {
   "cell_type": "code",
   "execution_count": 180,
   "metadata": {
    "collapsed": false
   },
   "outputs": [
    {
     "data": {
      "image/png": "iVBORw0KGgoAAAANSUhEUgAAAGoAAAJPCAYAAACU30E7AAAABHNCSVQICAgIfAhkiAAAAAlwSFlz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\nSCgTCWXi/wBwcPdpD7ej5wAAAABJRU5ErkJggg==\n",
      "text/plain": [
       "<matplotlib.figure.Figure at 0x11c3abf60>"
      ]
     },
     "metadata": {},
     "output_type": "display_data"
    }
   ],
   "source": [
    "for open_close in open_close_times:\n",
    "    plt.plot([open_close['open'], open_close['close']], [open_close['index'], open_close['index']])\n",
    "\n",
    "# plt.plot([open_close_times[0]['open'], 0], [open_close_times[0]['close'], 0])\n",
    "# plt.plot([1200, 12000], [0, 0])\n",
    "# plt.xlim([1465000000,1466000000])\n",
    "# plt.ylim([0,50])\n",
    "\n",
    "\n",
    "plt.show()\n"
   ]
  },
  {
   "cell_type": "code",
   "execution_count": null,
   "metadata": {
    "collapsed": true
   },
   "outputs": [],
   "source": []
>>>>>>> 7863e4a421243e93e1ea603b0c5d6bfea18e37c9
  }
 ],
 "metadata": {
  "kernelspec": {
   "display_name": "Python 3",
   "language": "python",
   "name": "python3"
  },
  "language_info": {
   "codemirror_mode": {
    "name": "ipython",
    "version": 3
   },
   "file_extension": ".py",
   "mimetype": "text/x-python",
   "name": "python",
   "nbconvert_exporter": "python",
   "pygments_lexer": "ipython3",
   "version": "3.6.0"
  }
 },
 "nbformat": 4,
 "nbformat_minor": 2
}
