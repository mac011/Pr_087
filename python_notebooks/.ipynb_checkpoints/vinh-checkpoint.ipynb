{
 "cells": [
  {
   "cell_type": "code",
   "execution_count": 1,
   "metadata": {
    "collapsed": true
   },
   "outputs": [],
   "source": [
    "# Imports\n",
    "#  Note: these are all the imports you need! Do not import any other functions / packages\n",
    "%matplotlib inline\n",
    "\n",
    "import numpy as np\n",
    "import pandas as pd\n",
    "import geopy as gp\n",
    "from geopy.distance import great_circle\n",
    "import scipy.spatial\n",
    "import matplotlib.pyplot as plt\n",
    "\n"
   ]
  },
  {
   "cell_type": "code",
   "execution_count": null,
   "metadata": {
    "collapsed": false
   },
   "outputs": [],
   "source": [
    "zillowpd = pd.read_csv('../raw_data/Neighborhood_MedianValuePerSqft_AllHomes.csv') \n"
   ]
  },
  {
   "cell_type": "code",
   "execution_count": null,
   "metadata": {
    "collapsed": false
   },
   "outputs": [],
   "source": [
    "zillowpdsd = zillowpd[zillowpd['CountyName'] == 'San Diego'] # remove all counties not san diego\n",
    "# remove uneccessary columns\n",
    "zillowpdsd = zillowpdsd.drop('RegionID', 1)\n",
    "zillowpdsd = zillowpdsd.drop('State', 1)\n",
    "zillowpdsd = zillowpdsd.drop('SizeRank', 1)\n",
    "# remove all but latest rent info\n",
    "zillowpdsd2 = zillowpdsd[['RegionName', 'City','Metro','CountyName','2017-03']]\n",
    "zillowpdsd2"
   ]
  },
  {
   "cell_type": "code",
   "execution_count": null,
   "metadata": {
    "collapsed": true
   },
   "outputs": [],
   "source": [
    "zillowpdsd.to_csv('../clean_data/clean_full_pricepersqft.csv')\n",
    "zillowpdsd2.to_csv('../clean_data/clean_latest_pricepersqft.csv')"
   ]
  },
  {
   "cell_type": "code",
   "execution_count": 42,
   "metadata": {
    "collapsed": false
   },
   "outputs": [],
   "source": [
    "randomPoints1 = pd.read_csv('../clean_data/randomPoints.csv') \n",
    "open_pot = pd.read_csv('../clean_data/cleaned_get_it_done_open_potholes.csv')\n"
   ]
  },
  {
   "cell_type": "code",
   "execution_count": 43,
   "metadata": {
    "collapsed": false
   },
   "outputs": [],
   "source": [
    "randResults = np.zeros((len(randomPoints1),len(open_pot)))"
   ]
  },
  {
   "cell_type": "code",
   "execution_count": 44,
   "metadata": {
    "collapsed": false
   },
   "outputs": [],
   "source": [
    "for i in randomPoints1.index:\n",
    "    randomPoint = randomPoints1.iloc[i]\n",
    "    for j in open_pot.index:\n",
    "        open_pott = open_pot.iloc[j]\n",
    "        randResults[i][j] = great_circle((randomPoint['Y'], randomPoint['X']), (open_pott['lat'], open_pott['long'])).meters\n",
    "np.save('../clean_data/randDistances.npy',busResults)\n"
   ]
  },
  {
   "cell_type": "raw",
   "metadata": {},
   "source": []
  },
  {
   "cell_type": "code",
   "execution_count": 45,
   "metadata": {
    "collapsed": false,
    "scrolled": true
   },
   "outputs": [
    {
     "data": {
      "text/plain": [
       "array([[ 21294.18137354,  32455.46854985,  19346.96391187, ...,\n",
       "         11223.40486153,   4243.650653  ,             nan],\n",
       "       [ 26758.55166862,  17773.62264483,  30353.9422605 , ...,\n",
       "         38644.98415844,  44216.64858176,             nan],\n",
       "       [ 19296.32118276,  11328.90529847,  23086.43584364, ...,\n",
       "         31269.88935603,  36747.12363651,             nan],\n",
       "       ..., \n",
       "       [ 14985.92497456,  25946.68759569,  14482.13546138, ...,\n",
       "          5142.64485801,   4415.40279766,             nan],\n",
       "       [ 15316.04657951,  17580.02277632,  22240.26965402, ...,\n",
       "         12270.31128578,  21779.5897994 ,             nan],\n",
       "       [ 12680.86413256,  13145.31330652,  20398.13083886, ...,\n",
       "         13633.39893837,  23011.1173002 ,             nan]])"
      ]
     },
     "execution_count": 45,
     "metadata": {},
     "output_type": "execute_result"
    }
   ],
   "source": [
    "randResults"
   ]
  },
  {
   "cell_type": "raw",
   "metadata": {},
   "source": [
    "\n"
   ]
  },
  {
   "cell_type": "code",
   "execution_count": 11,
   "metadata": {
    "collapsed": false
   },
   "outputs": [
    {
     "data": {
      "text/plain": [
       "(11905, 2)"
      ]
     },
     "execution_count": 11,
     "metadata": {},
     "output_type": "execute_result"
    }
   ],
   "source": [
    "closedPotholes = pd.read_csv('../clean_data/complete_closed.csv') \n",
    "closedPotholes = closedPotholes[['lat','long']]\n",
    "closedPotholes.shape"
   ]
  },
  {
   "cell_type": "code",
   "execution_count": 12,
   "metadata": {
    "collapsed": false
   },
   "outputs": [
    {
     "data": {
      "text/plain": [
       "(2573, 2)"
      ]
     },
     "execution_count": 12,
     "metadata": {},
     "output_type": "execute_result"
    }
   ],
   "source": [
    "openPotholes = pd.read_csv('../clean_data/FINAL_open_pothole_count.csv') \n",
    "openPotholes = openPotholes[['lat','long']]\n",
    "openPotholes.shape"
   ]
  },
  {
   "cell_type": "code",
   "execution_count": 15,
   "metadata": {
    "collapsed": false
   },
   "outputs": [],
   "source": [
    "allPotholes = pd.concat([closedPotholes, openPotholes])\n",
    "bus_stops = pd.read_csv('../clean_data/clean_bus_stops.csv')\n",
    "bus_stops = bus_stops[~np.isnan(bus_stops['LONGITUDE'])]\n",
    "bus_stops = bus_stops[bus_stops['LONGITUDE'] != 0]"
   ]
  },
  {
   "cell_type": "code",
   "execution_count": 17,
   "metadata": {
    "collapsed": false
   },
   "outputs": [],
   "source": [
    "open_pot_coordinates = np.asarray(allPotholes[['lat','long']])\n",
    "bus_stops_coordinates = np.asarray(bus_stops[['LATITUDE','LONGITUDE']])\n"
   ]
  },
  {
   "cell_type": "code",
   "execution_count": 44,
   "metadata": {
    "collapsed": false
   },
   "outputs": [
    {
     "name": "stdout",
     "output_type": "stream",
     "text": [
      "WTF 4793 : 30.2332189564\n",
      "WTF 4840 : 120.676208029\n",
      "WTF 4936 : 30.8632582989\n",
      "WTF 5121 : 27.4985194657\n",
      "WTF 7267 : 120.676208029\n",
      "WTF 8258 : 120.676208029\n",
      "WTF 9678 : 31.5457862561\n",
      "WTF 9696 : 31.4312596027\n",
      "WTF 9775 : 32.1084048696\n",
      "WTF 9867 : 28.2401390377\n",
      "WTF 9889 : 31.0495755468\n",
      "WTF 9919 : 37.0562810338\n",
      "WTF 9932 : 275.697472971\n",
      "WTF 10060 : 45.7198603927\n",
      "WTF 10072 : 128.898409146\n",
      "WTF 10079 : 32.3937811226\n",
      "WTF 10090 : 29.1769585769\n",
      "WTF 10191 : 28.7539948343\n",
      "WTF 10228 : 120.676208029\n",
      "WTF 14028 : 120.676208029\n",
      "WTF 14264 : 120.676208029\n",
      "WTF 14357 : 120.676208029\n"
     ]
    }
   ],
   "source": [
    "dist_bus_data = scipy.spatial.distance.cdist(open_pot_coordinates,bus_stops_coordinates)\n",
    "min_dist_indices = np.zeros(dist_bus_data.shape[0])\n",
    "min_dists = np.zeros(dist_bus_data.shape[0])\n",
    "\n",
    "for i in range(0,dist_bus_data.shape[0]):\n",
    "    _ = np.argmin(dist_bus_data[i])\n",
    "    min_dists[i] = dist_bus_data[i][_]\n",
    "    min_dist_indices[i] = _    \n",
    "    if dist_bus_data[i][_] > 20:\n",
    "        print('WTF',i,':',dist_bus_data[i][_])\n"
   ]
  },
  {
   "cell_type": "code",
   "execution_count": 45,
   "metadata": {
    "collapsed": false
   },
   "outputs": [],
   "source": [
    "min_dists = pd.Series(min_dists).dropna()"
   ]
  },
  {
   "cell_type": "code",
   "execution_count": 49,
   "metadata": {
    "collapsed": false
   },
   "outputs": [
    {
     "data": {
      "image/png": "[encoded data removed]",
      "text/plain": [
       "<matplotlib.figure.Figure at 0x117fd8438>"
      ]
     },
     "metadata": {},
     "output_type": "display_data"
    },
    {
     "name": "stdout",
     "output_type": "stream",
     "text": [
      "Mean: 0.1262216002018572\n"
     ]
    }
   ],
   "source": [
    "#All Potholes to nearest Bus Stop Distances\n",
    "plt.close()\n",
    "plt.figure(figsize=(10,10))\n",
    "plt.hist(np.log(min_dists), 50, range=[-11,0])\n",
    "plt.title('All Potholes to nearest Bus Stop Distances')\n",
    "plt.show()\n",
    "plt.close()\n",
    "print('Mean:',np.mean(min_dists))"
   ]
  },
  {
   "cell_type": "code",
   "execution_count": 50,
   "metadata": {
    "collapsed": false
   },
   "outputs": [
    {
     "name": "stdout",
     "output_type": "stream",
     "text": [
      "WTF 4793 : 30.934840055\n",
      "WTF 4840 : 121.323575615\n",
      "WTF 4936 : 31.6335567375\n",
      "WTF 5121 : 28.314177683\n",
      "WTF 7267 : 121.323575615\n",
      "WTF 8258 : 121.323575615\n",
      "WTF 9678 : 32.2460765864\n",
      "WTF 9696 : 32.2220693832\n",
      "WTF 9775 : 32.8520697647\n",
      "WTF 9867 : 28.9403688386\n",
      "WTF 9889 : 31.8344145114\n",
      "WTF 9919 : 37.7767859747\n",
      "WTF 9932 : 276.367786277\n",
      "WTF 10060 : 46.445109483\n",
      "WTF 10072 : 129.68335958\n",
      "WTF 10079 : 33.1200213141\n",
      "WTF 10090 : 29.9935702121\n",
      "WTF 10103 : 20.395534892\n",
      "WTF 10191 : 29.4525145538\n",
      "WTF 10228 : 121.323575615\n",
      "WTF 14028 : 121.323575615\n",
      "WTF 14264 : 121.323575615\n",
      "WTF 14357 : 121.323575615\n"
     ]
    },
    {
     "data": {
      "image/png": "[encoded data removed]",
      "text/plain": [
       "<matplotlib.figure.Figure at 0x117f87e10>"
      ]
     },
     "metadata": {},
     "output_type": "display_data"
    },
    {
     "name": "stdout",
     "output_type": "stream",
     "text": [
      "Mean: 0.18172019100348896\n"
     ]
    }
   ],
   "source": [
    "# meter distances\n",
    "meter_data = pd.read_csv('../raw_data/raw_parking_meter_location.csv')\n",
    "meter_data = meter_data[~np.isnan(meter_data['longitude'])]\n",
    "meter_data = meter_data[meter_data['longitude'] != 0]\n",
    "meter_data_coordinates = np.asarray(meter_data[['latitude','longitude']])\n",
    "\n",
    "dist_meter_data = scipy.spatial.distance.cdist(open_pot_coordinates,meter_data_coordinates)\n",
    "min_dist_indices = np.zeros(dist_meter_data.shape[0])\n",
    "min_dists = np.zeros(dist_meter_data.shape[0])\n",
    "for i in range(0,dist_meter_data.shape[0]):\n",
    "    _ = np.argmin(dist_meter_data[i])\n",
    "    min_dists[i] = dist_meter_data[i][_]\n",
    "    min_dist_indices[i] = _    \n",
    "    if dist_meter_data[i][_] > 20:\n",
    "        print('WTF',i,':',dist_meter_data[i][_])\n",
    "min_dists = pd.Series(min_dists).dropna()\n",
    "plt.close()\n",
    "plt.figure(figsize=(10,10))\n",
    "plt.hist(np.log(min_dists), 50, range=[-11,1])\n",
    "plt.title('All Potholes to nearest Meter Distances')\n",
    "plt.show()\n",
    "plt.close()\n",
    "print('Mean:',np.mean(min_dists))"
   ]
  },
  {
   "cell_type": "code",
   "execution_count": null,
   "metadata": {
    "collapsed": true
   },
   "outputs": [],
   "source": [
    "bus_stops = pd.read_csv('../clean_data/clean_bus_stops.csv')\n",
    "potholes = pd.read_csv('../clean_data/Combined_Closed_Neighb.csv')\n",
    "\n"
   ]
  }
 ],
 "metadata": {
  "kernelspec": {
   "display_name": "Python 3",
   "language": "python",
   "name": "python3"
  },
  "language_info": {
   "codemirror_mode": {
    "name": "ipython",
    "version": 3
   },
   "file_extension": ".py",
   "mimetype": "text/x-python",
   "name": "python",
   "nbconvert_exporter": "python",
   "pygments_lexer": "ipython3",
   "version": "3.6.0"
  }
 },
 "nbformat": 4,
 "nbformat_minor": 2
}
