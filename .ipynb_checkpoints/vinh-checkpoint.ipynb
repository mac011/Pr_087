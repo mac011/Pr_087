{
 "cells": [
  {
   "cell_type": "code",
   "execution_count": 1,
   "metadata": {
    "collapsed": true
   },
   "outputs": [],
   "source": [
    "# Imports\n",
    "#  Note: these are all the imports you need! Do not import any other functions / packages\n",
    "%matplotlib inline\n",
    "\n",
    "import numpy as np\n",
    "import pandas as pd"
   ]
  },
  {
   "cell_type": "code",
   "execution_count": 2,
   "metadata": {
    "collapsed": false
   },
   "outputs": [],
   "source": [
    "zillowpd = pd.read_csv('raw_data/raw_pricepersqft.csv') \n"
   ]
  },
  {
   "cell_type": "code",
   "execution_count": 3,
   "metadata": {
    "collapsed": false
   },
   "outputs": [],
   "source": [
    "zillowpdsd = zillowpd[zillowpd['County'] == 'San Diego'] # remove all counties not san diego\n",
    "# remove uneccessary columns\n",
    "zillowpdsd = zillowpdsd.drop('City Code', 1)\n",
    "zillowpdsd = zillowpdsd.drop('State', 1)\n",
    "zillowpdsd = zillowpdsd.drop('Population Rank', 1)\n",
    "# remove all but latest rent info\n",
    "zillowpdsd2 = zillowpdsd[['City','Metro','County','January 2017']]"
   ]
  },
  {
   "cell_type": "code",
   "execution_count": 4,
   "metadata": {
    "collapsed": true
   },
   "outputs": [],
   "source": [
    "zillowpdsd.to_csv('clean_data/clean_full_pricepersqft.csv')\n",
    "zillowpdsd2.to_csv('clean_data/clean_latest_pricepersqft.csv')"
   ]
  },
  {
   "cell_type": "code",
   "execution_count": null,
   "metadata": {
    "collapsed": true
   },
   "outputs": [],
   "source": []
  }
 ],
 "metadata": {
  "kernelspec": {
   "display_name": "Python 3",
   "language": "python",
   "name": "python3"
  },
  "language_info": {
   "codemirror_mode": {
    "name": "ipython",
    "version": 3
   },
   "file_extension": ".py",
   "mimetype": "text/x-python",
   "name": "python",
   "nbconvert_exporter": "python",
   "pygments_lexer": "ipython3",
   "version": "3.6.0"
  }
 },
 "nbformat": 4,
 "nbformat_minor": 2
}
